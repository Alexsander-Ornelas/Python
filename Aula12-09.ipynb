{
 "cells": [
  {
   "cell_type": "code",
   "execution_count": 2,
   "metadata": {},
   "outputs": [
    {
     "name": "stdout",
     "output_type": "stream",
     "text": [
      "O seu CPF é: 121-321-231-32\n"
     ]
    }
   ],
   "source": [
    "def cpfValido():\n",
    "    cpf = str(input(\"Qual o seu CPF:\"))\n",
    "    if len(cpf) == 14:\n",
    "        print(\"O seu CPF é:\", cpf)\n",
    "    elif len(cpf) == 11:\n",
    "        cpf = '{}.{}.{}-{}'.format(cpf[:3], cpf[3:6], cpf[6:9], cpf[9:])\n",
    "        print(\"O seu CPF é:\", cpf)\n",
    "    else:\n",
    "        print(\"O CPF é Inválido\")\n",
    "\n",
    "\n",
    "cpfValido()\n"
   ]
  }
 ],
 "metadata": {
  "kernelspec": {
   "display_name": "Python 3.10.4 64-bit",
   "language": "python",
   "name": "python3"
  },
  "language_info": {
   "codemirror_mode": {
    "name": "ipython",
    "version": 3
   },
   "file_extension": ".py",
   "mimetype": "text/x-python",
   "name": "python",
   "nbconvert_exporter": "python",
   "pygments_lexer": "ipython3",
   "version": "3.10.4"
  },
  "orig_nbformat": 4,
  "vscode": {
   "interpreter": {
    "hash": "a4324c0c295a5d42c55b71562e0a6918aaa7ebb092962e18abbd4a1b765c03c3"
   }
  }
 },
 "nbformat": 4,
 "nbformat_minor": 2
}
